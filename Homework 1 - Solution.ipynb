{
 "cells": [
  {
   "cell_type": "markdown",
   "metadata": {},
   "source": [
    "Exercise 1:\n",
    "    \n",
    "    "
   ]
  },
  {
   "cell_type": "markdown",
   "metadata": {},
   "source": [
    "Lets say that the spacing of the three points $x_{i-1}$, $x_i$ and $x_{i+1}$ is $h_+ = x_{x+1} - x_i$ and $h_- = x_i - x_{i-1}$. Then, the Taylor expansion of $f(x)$ at $x_{i+1}$ and $x_{i-1}$, repectively, will be\n",
    "\\begin{align}\n",
    "    f(x_{i+1}) &= f(x_i + h_+) \\approx f(x_i) + h_+ f'(x_i) + \\frac{h_+^2}{2} f''(x_i) + \\frac{h_+^3}{6} f'''(x_i) + \\cdots \\; , \\\\\n",
    "    f(x_{i-1}) &= f(x_i - h_-) \\approx f(x_i) - h_- f'(x_i) + \\frac{h_-^2}{2} f''(x_i) - \\frac{h_-^3}{6} f'''(x_i) + \\cdots \\; .\n",
    "\\end{align}\n",
    "\n",
    "Keeping terms until second order and subtracting those two, we end up with the following\n",
    "\\begin{equation}\n",
    "    f'(x_i) \\approx \\frac{ f(x_{i+1}) - f(x_{i-1}) }{x_{i+1} - x_{i-1}} + \\left[ \\frac{1}{2} (h_1 - h_2) f''(x_i) \\right] \\; ,\n",
    "\\end{equation}\n",
    "and thus the same scheme as before with non-constant spacing is first-order."
   ]
  },
  {
   "cell_type": "markdown",
   "metadata": {
    "collapsed": true
   },
   "source": [
    "In order to calculate the second-order scheme we will implement the method of undetermined coefficients and keep orders until third order. Thus, lets assume that\n",
    "\\begin{align}\n",
    "    f'(x_i) \\approx Af(x_{i-1}) + Bf(x_i) + Cf(x_{i+1}) \\approx & A\\left[ f(x_i) - h_- f'(x_i) + \\frac{h_-^2}{2} f''(x_i) - \\frac{h_-^3}{6}f'''(x_i) \\right] \\\\\n",
    "    & + Bf(x_i) + C\\left[ f(x_i) + h_+ f'(x_i) + \\frac{h_+^2}{2} f''(x_i) + \\frac{h_+^3}{6}f'''(x_i) \\right]\n",
    "\\end{align}\n",
    "and group up together terms as follows, \n",
    "\\begin{align}\n",
    "    f'(x_i) \\approx (A+B+C) f(x_i) + (h_+ C - h_-A) f'(x_i) + \\frac{1}{2} (h_-^2 A + h_+^2 C) f''(x_i) + \\left[ \\frac{1}{6} (h_+^3 C - h_-^3 A)f'''(x_i) \\right] \\; .\n",
    "\\end{align}\n",
    "The term involving the third-order derivative will determine the truncation error order. Thus, comparing the first three terms with the right-hand side in the above equation, we get the following system of equations to solve for the three coefficients $A$, $B$ and $C$:\n",
    "\\begin{align}\n",
    "\\left\\{A+B+C=0 \\; , \\; \\; h_+C - h_-A = 1 \\; , \\; \\; h_-^2 A + h_+^2 C = 0 \\; \\right\\} \\; .\n",
    "\\end{align}\n",
    "The solution to this linear system is \n",
    "\\begin{align}\n",
    "A = -\\frac{h_+}{h_- (h_+ + h_-)} \\; , \\; \\; B = \\frac{h_- - h_+}{h_- h_+} \\; , \\; \\; C = \\frac{h_-}{h_+ (h_- + h_+)} \\; .\n",
    "\\end{align}\n",
    "\n",
    "Therefore, we get\n",
    "\\begin{align}\n",
    "    f'(x_i) \\approx \\frac{h_-^2 f(x_{i+1}) +(h_-^2 - h_+^2) f(x_i) - h_+^2 f(x_{i-1})}{h_- h_+ (h_- + h_+)} + \\left[ \\frac{1}{6} (h_+^3 C - h_-^3 A) f'''(x_i) \\right]\n",
    "\\end{align}\n",
    "which means that the scheme's order is 2, since\n",
    "\\begin{align}\n",
    "    h_+^3 C - h_-^3 A  = h_-^2 - h_- h_+ + h_+^2 \\; .\n",
    "\\end{align}\n",
    "Therefore, compared to the given scheme of constant $h$ it is of the same order accurate."
   ]
  },
  {
   "cell_type": "markdown",
   "metadata": {},
   "source": [
    "\n",
    "\n",
    "Exercise 2: \n",
    "\n"
   ]
  },
  {
   "cell_type": "markdown",
   "metadata": {},
   "source": [
    "In this exercise we will create a hybrid model which combines the secant with the bisection methods."
   ]
  },
  {
   "cell_type": "code",
   "execution_count": 44,
   "metadata": {
    "collapsed": true
   },
   "outputs": [],
   "source": [
    "# implementation of secant-bisection hybrid method\n",
    "\n",
    "import numpy as np\n",
    "\n",
    "def hybrid_root_find(f, a, b, delta):\n",
    "    # hybrid root-finding method combining the secant and bisection methods\n",
    "    if f(a)*f(b)>0: # check whether a root exists between a and b\n",
    "            raise ValueError(\"function has the same sign on both ends of the interval: input interval must bracket a root!\")\n",
    "    # carry out Newton's method iterations\n",
    "    nhybrid = 0 # number of iterations in hybrid method\n",
    "    xroot = b # initial guess for the root\n",
    "    xold = a\n",
    "    while f(xroot) != 0. and np.abs(xroot-xold) > delta:\n",
    "        xmid = (a + b) / 2. # The middle point of (a,b)\n",
    "        xold, xroot = xroot, xroot - f(xroot)*(xroot-xold) / (f(xroot)-f(xold)) # save old root estimation and apply secant method to find next root estimation\n",
    "        nhybrid += 1 # increase by one the number of iterations\n",
    "        if xmid < xroot and xroot < xold: \n",
    "            # check if new root estimation lies between the middle and right edge of current interval\n",
    "            # if yes, then use secant method's result as an edge point for new interval (below we check which edge it will be)\n",
    "            if f(xroot)*f(xold)<0:\n",
    "                a = xroot\n",
    "            elif f(xroot)*f(a)<0:\n",
    "                b = xroot\n",
    "        else:\n",
    "            # if no, then use the middle point as a new edge point instead (again, we check which edge below)\n",
    "            if f(xmid)*f(xold)<0:\n",
    "                a = xmid;\n",
    "            elif f(xmid)*f(a)<0:\n",
    "                b = xmid\n",
    "    return xroot, nhybrid"
   ]
  },
  {
   "cell_type": "code",
   "execution_count": 45,
   "metadata": {
    "collapsed": true
   },
   "outputs": [],
   "source": [
    "# implementation of the secant method to compare with the above case\n",
    "\n",
    "def secant(f, a, b, delta, verbose=True):\n",
    "    \"\"\"\n",
    "    implementation of the secant method\n",
    "    f = input function\n",
    "    [a,b] = float, interval to search for root; a,b must bracket the root\n",
    "    eps = float, required absolute accuracy of the root\n",
    "    verbose = logical, if True print results of intermediate iterations\n",
    "    \"\"\"\n",
    "    if f(a)*f(b)>0:\n",
    "        raise ValueError(\"function has the same sign on both ends of the interval: input interval must bracket a root!\")\n",
    "\n",
    "    x = a; xold = b; nsecant = 0\n",
    "    # carry out Newton's method iterations\n",
    "    while f(x) != 0. and np.abs(x-xold) > delta:\n",
    "        xold, x = x, x - f(x)*(x-xold) / (f(x)-f(xold))\n",
    "        nsecant += 1\n",
    "        #if verbose: \n",
    "            #print(\"niter = %d  xroot = %.25f\"%(niter, x))\n",
    "    return x, nsecant"
   ]
  },
  {
   "cell_type": "code",
   "execution_count": 46,
   "metadata": {
    "collapsed": true
   },
   "outputs": [],
   "source": [
    "# we will test the above methods by solving the following equation\n",
    "\n",
    "def f(x):\n",
    "    return x*x - 4.*x + 1."
   ]
  },
  {
   "cell_type": "markdown",
   "metadata": {},
   "source": [
    "We will now test the code above by using it to solve the equation $x^2 - 4x + 1 = 0$. Of course, this equation has the root $x_r = 2 + \\sqrt{3} \\approx 3.7320508075688772$ on the interval $[2,4]$. We can use it to compare our method's results with. We will also test different values of \"delta\" and find what the maximum accuracy one can get is. Below, some solutions for several delta values can be seen."
   ]
  },
  {
   "cell_type": "code",
   "execution_count": 47,
   "metadata": {
    "collapsed": false
   },
   "outputs": [
    {
     "name": "stdout",
     "output_type": "stream",
     "text": [
      "Solutions on [a,b]=[2.000, 4.000]\n",
      "\n",
      "delta=1.000e-16:\n",
      "\n",
      "Hybrid: xhybrid = 3.732050808 +- 1.000e-16 after nhybrib=8 iterations and error=0.000000000e+00\n",
      "Secant: xsecant = 3.732050808 +- 1.000e-16 after nhybrib=9 iterations and error=0.000000000e+00\n",
      "-------\n",
      "delta=2.539e-15:\n",
      "\n",
      "Hybrid: xhybrid = 3.732050808 +- 2.539e-15 after nhybrib=8 iterations and error=0.000000000e+00\n",
      "Secant: xsecant = 3.732050808 +- 2.539e-15 after nhybrib=9 iterations and error=0.000000000e+00\n",
      "-------\n",
      "delta=6.447e-14:\n",
      "\n",
      "Hybrid: xhybrid = 3.732050808 +- 6.447e-14 after nhybrib=7 iterations and error=1.189933451e-16\n",
      "Secant: xsecant = 3.732050808 +- 6.447e-14 after nhybrib=8 iterations and error=1.189933451e-16\n",
      "-------\n",
      "delta=1.637e-12:\n",
      "\n",
      "Hybrid: xhybrid = 3.732050808 +- 1.637e-12 after nhybrib=7 iterations and error=1.189933451e-16\n",
      "Secant: xsecant = 3.732050808 +- 1.637e-12 after nhybrib=8 iterations and error=1.189933451e-16\n",
      "-------\n",
      "delta=4.157e-11:\n",
      "\n",
      "Hybrid: xhybrid = 3.732050808 +- 4.157e-11 after nhybrib=7 iterations and error=1.189933451e-16\n",
      "Secant: xsecant = 3.732050808 +- 4.157e-11 after nhybrib=8 iterations and error=1.189933451e-16\n",
      "-------\n",
      "delta=1.055e-09:\n",
      "\n",
      "Hybrid: xhybrid = 3.732050808 +- 1.055e-09 after nhybrib=7 iterations and error=1.189933451e-16\n",
      "Secant: xsecant = 3.732050808 +- 1.055e-09 after nhybrib=8 iterations and error=1.189933451e-16\n",
      "-------\n",
      "delta=2.680e-08:\n",
      "\n",
      "Hybrid: xhybrid = 3.732050808 +- 2.680e-08 after nhybrib=6 iterations and error=1.308926797e-15\n",
      "Secant: xsecant = 3.732050808 +- 2.680e-08 after nhybrib=7 iterations and error=1.308926797e-15\n",
      "-------\n",
      "delta=6.804e-07:\n",
      "\n",
      "Hybrid: xhybrid = 3.732050808 +- 6.804e-07 after nhybrib=6 iterations and error=1.308926797e-15\n",
      "Secant: xsecant = 3.732050808 +- 6.804e-07 after nhybrib=7 iterations and error=1.308926797e-15\n",
      "-------\n",
      "delta=1.728e-05:\n",
      "\n",
      "Hybrid: xhybrid = 3.732050805 +- 1.728e-05 after nhybrib=5 iterations and error=6.553635830e-10\n",
      "Secant: xsecant = 3.732050805 +- 1.728e-05 after nhybrib=6 iterations and error=6.553635830e-10\n",
      "-------\n",
      "delta=4.387e-04:\n",
      "\n",
      "Hybrid: xhybrid = 3.732050805 +- 4.387e-04 after nhybrib=5 iterations and error=6.553635830e-10\n",
      "Secant: xsecant = 3.732050805 +- 4.387e-04 after nhybrib=6 iterations and error=6.553635830e-10\n",
      "-------\n"
     ]
    }
   ],
   "source": [
    "a=2.; b=4. # edge points of interval with root\n",
    "delta = 1.e-14 # maximum allowed absolute error to check each iteration\n",
    "\n",
    "xan = 2 + np.sqrt(3) # analytic root\n",
    "\n",
    "delta_array = 10**np.linspace(-16, -2, 300) # different delta values to try out\n",
    "xhybrid = []; xsecant = []\n",
    "err_hybrid = []; err_secant = []\n",
    "\n",
    "print(\"Solutions on [a,b]=[%.3f, %.3f]\"%(a, b))\n",
    "print(\"\")\n",
    "for i in range (0,len(delta_array)):\n",
    "    delta = delta_array[i] # delta value for each iteration\n",
    "    xhybrid_root, nhybrid = hybrid_root_find(f, a, b, delta) # find root with hybrid method\n",
    "    xsecant_root, nsecant = secant(f, a, b, delta) # find root with secant method\n",
    "    xhybrid.append(xhybrid_root); xsecant.append(xsecant_root)\n",
    "    \n",
    "    err_hybrid.append(np.abs((xhybrid_root - xan)/xan)) # errors trelative to analytic solution for hybrid method\n",
    "    err_secant.append(np.abs((xsecant_root - xan)/xan)) # errors trelative to analytic solution for secant method\n",
    "    \n",
    "    if i%30 == 0: # prints solutions every 10 iterations\n",
    "        print(\"delta=%.3e:\"%(delta))\n",
    "        print(\"\")\n",
    "        print(\"Hybrid: xhybrid = %.9f +- %.3e after nhybrib=%d iterations and error=%.9e\"%(xhybrid_root, delta, nhybrid, np.abs((xsecant_root - xan)/xan)))\n",
    "        print(\"Secant: xsecant = %.9f +- %.3e after nhybrib=%d iterations and error=%.9e\"%(xsecant_root, delta, nsecant, np.abs((xsecant_root - xan)/xan)))\n",
    "        print(\"-------\")"
   ]
  },
  {
   "cell_type": "code",
   "execution_count": 48,
   "metadata": {
    "collapsed": false
   },
   "outputs": [
    {
     "data": {
      "image/png": "[encoded data removed]",
      "text/plain": [
       "<matplotlib.figure.Figure at 0x7f2afb311550>"
      ]
     },
     "metadata": {},
     "output_type": "display_data"
    }
   ],
   "source": [
    "# plot the error of each method as a function of delta\n",
    "\n",
    "import numpy as np\n",
    "import matplotlib.pyplot as plt\n",
    "\n",
    "\n",
    "x = delta_array\n",
    "dashes = [10, 5, 100, 5]  # 10 points on, 5 off, 100 on, 5 off\n",
    "\n",
    "plt.figure(figsize=(10,10))\n",
    "plt.plot(x, err_hybrid, '--', linewidth=2, label='hybrid')\n",
    "plt.plot(x, err_secant, dashes=[30, 5, 10, 5], label='secant')\n",
    "\n",
    "plt.rc('text', usetex=True)\n",
    "plt.rcParams.update({'font.size': 21})\n",
    "plt.xlabel('delta')\n",
    "plt.ylabel('fractional error')\n",
    "#plt.title('fractional error for hybrid and secant methods')\n",
    "plt.legend(loc='lower right')\n",
    "plt.xscale('log')\n",
    "plt.yscale('log')\n",
    "\n",
    "plt.show()"
   ]
  },
  {
   "cell_type": "code",
   "execution_count": 50,
   "metadata": {
    "collapsed": false
   },
   "outputs": [
    {
     "name": "stdout",
     "output_type": "stream",
     "text": [
      "estimated precision of your machine is 2.2204460492503131e-16 or 53 bits\n"
     ]
    }
   ],
   "source": [
    "# computes the machine's maximum precision\n",
    "\n",
    "macheps = 1.0; verbose = False; \n",
    "\n",
    "while ((1.0 + (macheps/2.0)) != 1.0): # while computer can tell between 1 and 1+eps/2\n",
    "    if verbose: \n",
    "        print(\"epsilon = %.16e , 1+epsilon = %.16e\"%(macheps, 1.0+macheps))\n",
    "    macheps /= 2. # keep dividing by 2\n",
    "\n",
    "print(\"estimated precision of your machine is %.16e or %d bits\"%(macheps, np.log2(1./macheps)+1))"
   ]
  },
  {
   "cell_type": "markdown",
   "metadata": {},
   "source": [
    "According to the above, the hybrid method seems to be always one iteration faster than the secant method, but both estimate the root with good accuracy. Also, when calculating the fractional error, compared to the \"actual\" root $2+\\sqrt{3}$, it seems that the maximum accuracy we can get is about $1.19 \\times 10^{-16}$, which comes very close to the above estimated maximum precision of $2.22 \\times 10^{-16}$ for this machine. More specifically, the figure above shows how the fractional error changes with different delta values. We can see that the error behaves almost like a step function, decreasing while delta also decreases. After some point when delta becomes of the order of $10^{-15}$ the error vanishes after it takes its minimum value which is of the order of $10^{-16}$ (which almost stays the same for delta's between $\\sim 10^{-9} - 10^{-14}$). Thus, the maximum accuracy we can obtain is of the order of the maximum accuracy the machine can get, which is expected."
   ]
  },
  {
   "cell_type": "markdown",
   "metadata": {},
   "source": [
    "\n",
    "\n",
    "Exercise 3:\n",
    "\n"
   ]
  },
  {
   "cell_type": "markdown",
   "metadata": {},
   "source": [
    "We want to find a root of the function\n",
    "$$\n",
    "g(x) = 1 + \\frac{\\gamma-1}{2a_L}\\left[u_L-u_R -\\frac{a_R}{\\gamma}\\frac{x-1}{\\sqrt{\\frac{\\gamma+1}{2\\gamma}(x-1)+1}} \\right] - \\left( \\frac{p_R}{p_L} x \\right)^{\\frac{\\gamma - 1}{2\\gamma}}\n",
    "$$\n",
    "which we plot below."
   ]
  },
  {
   "cell_type": "code",
   "execution_count": 51,
   "metadata": {
    "collapsed": false
   },
   "outputs": [
    {
     "data": {
      "image/png": "[encoded data removed]",
      "text/plain": [
       "<matplotlib.figure.Figure at 0x7f2afafbd210>"
      ]
     },
     "metadata": {},
     "output_type": "display_data"
    }
   ],
   "source": [
    "def g(x): # solving g(x)=0 is equivalent to solving the given equation\n",
    "    # the parameters\n",
    "    gamma = 1.4\n",
    "    rhoL = 1.; rhoR = 0.125\n",
    "    pL = 1.; pR = 0.1\n",
    "    uL = 0.75; uR = 0.\n",
    "    aL = np.sqrt(gamma*pL/rhoL); aR = np.sqrt(gamma*pR/rhoR)\n",
    "    # \n",
    "    return 1. + ((gamma-1.)/(2.*aL))*(uL - uR - (aR/gamma)*(x-1.)/np.sqrt((gamma+1.)*(x-1.)/(2.*gamma) + 1.)) - ((pR/pL)*x)**((gamma-1.)/(2.*gamma))\n",
    "\n",
    "# we now plot the above function to get an estimate of where the root is and define the interval that contains it\n",
    "xplt = np.linspace(0, 10, 500)\n",
    "dashes = [10, 5, 100, 5]  # 10 points on, 5 off, 100 on, 5 off\n",
    "\n",
    "plt.figure(figsize=(10,10))\n",
    "plt.plot(xplt, g(xplt), linewidth=2)\n",
    "plt.axhline(y=0.002,xmin=0,xmax=3,c=\"red\",linewidth=1,zorder=0) # plots horizontal red line\n",
    "plt.rc('text', usetex=True)\n",
    "plt.rcParams.update({'font.size': 21})\n",
    "plt.xlabel('x')\n",
    "plt.ylabel('g(x)')\n",
    "#plt.title('fractional error for hybrid and secant methods')\n",
    "plt.legend(loc='lower right')\n",
    "plt.show()"
   ]
  },
  {
   "cell_type": "markdown",
   "metadata": {},
   "source": [
    "From the figure above we can choose the interval [4,6] that includes the root and implment the hybrid method."
   ]
  },
  {
   "cell_type": "code",
   "execution_count": 54,
   "metadata": {
    "collapsed": false
   },
   "outputs": [
    {
     "name": "stdout",
     "output_type": "stream",
     "text": [
      "The root is x = 4.662935668 +- 1.000e-06 after n = 5 iterations\n"
     ]
    }
   ],
   "source": [
    "# we now use the hybrid method from above to find the root inside the chosen interval\n",
    "a = 4.; b = 6.; delta = 1.e-6\n",
    "xroot, niter = hybrid_root_find(g, a, b, delta)\n",
    "print(\"The root is x = %.9f +- %.3e after n = %d iterations\"%(xroot, delta, niter))"
   ]
  }
 ],
 "metadata": {
  "kernelspec": {
   "display_name": "Python 2",
   "language": "python",
   "name": "python2"
  },
  "language_info": {
   "codemirror_mode": {
    "name": "ipython",
    "version": 2
   },
   "file_extension": ".py",
   "mimetype": "text/x-python",
   "name": "python",
   "nbconvert_exporter": "python",
   "pygments_lexer": "ipython2",
   "version": "2.7.13"
  }
 },
 "nbformat": 4,
 "nbformat_minor": 2
}
